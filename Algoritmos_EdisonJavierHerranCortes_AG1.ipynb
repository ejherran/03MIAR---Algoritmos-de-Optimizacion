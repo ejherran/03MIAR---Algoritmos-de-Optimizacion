{
  "nbformat": 4,
  "nbformat_minor": 0,
  "metadata": {
    "colab": {
      "provenance": [],
      "include_colab_link": true
    },
    "kernelspec": {
      "name": "python3",
      "display_name": "Python 3"
    },
    "language_info": {
      "name": "python"
    }
  },
  "cells": [
    {
      "cell_type": "markdown",
      "metadata": {
        "id": "view-in-github",
        "colab_type": "text"
      },
      "source": [
        "<a href=\"https://colab.research.google.com/github/ejherran/03MIAR---Algoritmos-de-Optimizacion/blob/main/Algoritmos_EdisonJavierHerranCortes_AG1.ipynb\" target=\"_parent\"><img src=\"https://colab.research.google.com/assets/colab-badge.svg\" alt=\"Open In Colab\"/></a>"
      ]
    },
    {
      "cell_type": "markdown",
      "metadata": {
        "id": "GG2D6vLdYwwy"
      },
      "source": [
        "Actividad Guiada 1 de Algoritmos de Optimizacion\n",
        "\n",
        "Nombre: Edison Javier Herran Cortes\n",
        "\n",
        "https://colab.research.google.com/drive/1RzUQ6vG7LbRGfmWs5AeHgNIYPGk9Zkov?usp=sharing\n",
        "\n",
        "https://github.com/mi_usuario/03MAIR---Algoritmos-de-Optimizacion"
      ]
    },
    {
      "cell_type": "code",
      "metadata": {
        "id": "rTiqLuX2ZKuL",
        "outputId": "6bd738ed-4fcc-428f-f3e3-03316c092e81",
        "colab": {
          "base_uri": "https://localhost:8080/"
        }
      },
      "source": [
        "#Torres de Hanoi - Divide y venceras\n",
        "################################################################################\n",
        "\n",
        "\n",
        "################################################################\n",
        "def Torres_Hanoi(N, desde, hasta):\n",
        "  #N - Nº de fichas\n",
        "  #desde - torre inicial\n",
        "  #hasta - torre fina\n",
        "  if N==1 :\n",
        "    print(\"Lleva la ficha desde \" + str(desde) + \" hasta \" + str(hasta))\n",
        "\n",
        "  else:\n",
        "    Torres_Hanoi(N-1, desde, 6-desde-hasta)\n",
        "    print(\"Lleva la ficha desde \" + str(desde) + \" hasta \" + str(hasta))\n",
        "    Torres_Hanoi(N-1, 6-desde-hasta,  hasta)\n",
        "\n",
        "Torres_Hanoi(5, 1, 3)\n",
        "################################################################"
      ],
      "execution_count": 1,
      "outputs": [
        {
          "output_type": "stream",
          "name": "stdout",
          "text": [
            "Lleva la ficha desde 1 hasta 3\n",
            "Lleva la ficha desde 1 hasta 2\n",
            "Lleva la ficha desde 3 hasta 2\n",
            "Lleva la ficha desde 1 hasta 3\n",
            "Lleva la ficha desde 2 hasta 1\n",
            "Lleva la ficha desde 2 hasta 3\n",
            "Lleva la ficha desde 1 hasta 3\n",
            "Lleva la ficha desde 1 hasta 2\n",
            "Lleva la ficha desde 3 hasta 2\n",
            "Lleva la ficha desde 3 hasta 1\n",
            "Lleva la ficha desde 2 hasta 1\n",
            "Lleva la ficha desde 3 hasta 2\n",
            "Lleva la ficha desde 1 hasta 3\n",
            "Lleva la ficha desde 1 hasta 2\n",
            "Lleva la ficha desde 3 hasta 2\n",
            "Lleva la ficha desde 1 hasta 3\n",
            "Lleva la ficha desde 2 hasta 1\n",
            "Lleva la ficha desde 2 hasta 3\n",
            "Lleva la ficha desde 1 hasta 3\n",
            "Lleva la ficha desde 2 hasta 1\n",
            "Lleva la ficha desde 3 hasta 2\n",
            "Lleva la ficha desde 3 hasta 1\n",
            "Lleva la ficha desde 2 hasta 1\n",
            "Lleva la ficha desde 2 hasta 3\n",
            "Lleva la ficha desde 1 hasta 3\n",
            "Lleva la ficha desde 1 hasta 2\n",
            "Lleva la ficha desde 3 hasta 2\n",
            "Lleva la ficha desde 1 hasta 3\n",
            "Lleva la ficha desde 2 hasta 1\n",
            "Lleva la ficha desde 2 hasta 3\n",
            "Lleva la ficha desde 1 hasta 3\n"
          ]
        }
      ]
    },
    {
      "cell_type": "code",
      "metadata": {
        "id": "YwBudj2hYoMR",
        "colab": {
          "base_uri": "https://localhost:8080/"
        },
        "outputId": "62e3b55b-f000-49e8-869d-55f2ae739b5b"
      },
      "source": [
        "#Cambio de monedas - Técnica voraz\n",
        "################################################################################\n",
        "SISTEMA = [11, 5 ,  1  ]\n",
        "################################################################\n",
        "def cambio_monedas(CANTIDAD,SISTEMA):\n",
        "#....\n",
        "  SOLUCION = [0]*len(SISTEMA)\n",
        "  ValorAcumulado = 0\n",
        "\n",
        "  for i,valor in enumerate(SISTEMA):\n",
        "    monedas = (CANTIDAD-ValorAcumulado)//valor\n",
        "    SOLUCION[i] = monedas\n",
        "    ValorAcumulado = ValorAcumulado + monedas*valor\n",
        "\n",
        "    if CANTIDAD == ValorAcumulado:\n",
        "      return SOLUCION\n",
        "\n",
        "  print(\"No es posible encontrar solucion\")\n",
        "\n",
        "cambio_monedas(15,SISTEMA)\n",
        "\n",
        "\n",
        "################################################################"
      ],
      "execution_count": 2,
      "outputs": [
        {
          "output_type": "execute_result",
          "data": {
            "text/plain": [
              "[1, 0, 4]"
            ]
          },
          "metadata": {},
          "execution_count": 2
        }
      ]
    },
    {
      "cell_type": "code",
      "metadata": {
        "id": "H4Iwt2XRZTFr",
        "colab": {
          "base_uri": "https://localhost:8080/"
        },
        "outputId": "f0c10dde-580e-43ca-8dc3-0283254e7696"
      },
      "source": [
        "#N Reinas - Vuelta Atrás()\n",
        "################################################################################\n",
        "\n",
        "#Verifica que en la solución parcial no hay amenzas entre reinas\n",
        "################################################################\n",
        "def es_prometedora(SOLUCION,etapa):\n",
        "################################################################\n",
        "  #print(SOLUCION)\n",
        "  #Si la solución tiene dos valores iguales no es valida => Dos reinas en la misma fila\n",
        "  for i in range(etapa+1):\n",
        "    #print(\"El valor \" + str(SOLUCION[i]) + \" está \" +  str(SOLUCION.count(SOLUCION[i])) + \" veces\")\n",
        "    if SOLUCION.count(SOLUCION[i]) > 1:\n",
        "      return False\n",
        "\n",
        "    #Verifica las diagonales\n",
        "    for j in range(i+1, etapa +1 ):\n",
        "      #print(\"Comprobando diagonal de \" + str(i) + \" y \" + str(j))\n",
        "      if abs(i-j) == abs(SOLUCION[i]-SOLUCION[j]) : return False\n",
        "  return True\n",
        "\n",
        "#Traduce la solución al tablero\n",
        "################################################################\n",
        "def escribe_solucion(S):\n",
        "################################################################\n",
        "  n = len(S)\n",
        "  for x in range(n):\n",
        "    print(\"\")\n",
        "    for i in range(n):\n",
        "      if S[i] == x+1:\n",
        "        print(\" X \" , end=\"\")\n",
        "      else:\n",
        "        print(\" - \", end=\"\")\n",
        "\n",
        "\n",
        "\n",
        "#Proceso principal de N-Reinas\n",
        "################################################################\n",
        "def reinas(N, solucion=[],etapa=0):\n",
        "################################################################\n",
        "### ....\n",
        "  if len(solucion) == 0:         # [0,0,0...]\n",
        "    solucion = [0 for i in range(N) ]\n",
        "\n",
        "  for i in range(1, N+1):\n",
        "    solucion[etapa] = i\n",
        "    if es_prometedora(solucion, etapa):\n",
        "      if etapa == N-1:\n",
        "        print(solucion)\n",
        "      else:\n",
        "        reinas(N, solucion, etapa+1)\n",
        "    else:\n",
        "      None\n",
        "\n",
        "  solucion[etapa] = 0\n",
        "\n",
        "reinas(8,solucion=[],etapa=0)"
      ],
      "execution_count": 3,
      "outputs": [
        {
          "output_type": "stream",
          "name": "stdout",
          "text": [
            "[1, 5, 8, 6, 3, 7, 2, 4]\n",
            "[1, 6, 8, 3, 7, 4, 2, 5]\n",
            "[1, 7, 4, 6, 8, 2, 5, 3]\n",
            "[1, 7, 5, 8, 2, 4, 6, 3]\n",
            "[2, 4, 6, 8, 3, 1, 7, 5]\n",
            "[2, 5, 7, 1, 3, 8, 6, 4]\n",
            "[2, 5, 7, 4, 1, 8, 6, 3]\n",
            "[2, 6, 1, 7, 4, 8, 3, 5]\n",
            "[2, 6, 8, 3, 1, 4, 7, 5]\n",
            "[2, 7, 3, 6, 8, 5, 1, 4]\n",
            "[2, 7, 5, 8, 1, 4, 6, 3]\n",
            "[2, 8, 6, 1, 3, 5, 7, 4]\n",
            "[3, 1, 7, 5, 8, 2, 4, 6]\n",
            "[3, 5, 2, 8, 1, 7, 4, 6]\n",
            "[3, 5, 2, 8, 6, 4, 7, 1]\n",
            "[3, 5, 7, 1, 4, 2, 8, 6]\n",
            "[3, 5, 8, 4, 1, 7, 2, 6]\n",
            "[3, 6, 2, 5, 8, 1, 7, 4]\n",
            "[3, 6, 2, 7, 1, 4, 8, 5]\n",
            "[3, 6, 2, 7, 5, 1, 8, 4]\n",
            "[3, 6, 4, 1, 8, 5, 7, 2]\n",
            "[3, 6, 4, 2, 8, 5, 7, 1]\n",
            "[3, 6, 8, 1, 4, 7, 5, 2]\n",
            "[3, 6, 8, 1, 5, 7, 2, 4]\n",
            "[3, 6, 8, 2, 4, 1, 7, 5]\n",
            "[3, 7, 2, 8, 5, 1, 4, 6]\n",
            "[3, 7, 2, 8, 6, 4, 1, 5]\n",
            "[3, 8, 4, 7, 1, 6, 2, 5]\n",
            "[4, 1, 5, 8, 2, 7, 3, 6]\n",
            "[4, 1, 5, 8, 6, 3, 7, 2]\n",
            "[4, 2, 5, 8, 6, 1, 3, 7]\n",
            "[4, 2, 7, 3, 6, 8, 1, 5]\n",
            "[4, 2, 7, 3, 6, 8, 5, 1]\n",
            "[4, 2, 7, 5, 1, 8, 6, 3]\n",
            "[4, 2, 8, 5, 7, 1, 3, 6]\n",
            "[4, 2, 8, 6, 1, 3, 5, 7]\n",
            "[4, 6, 1, 5, 2, 8, 3, 7]\n",
            "[4, 6, 8, 2, 7, 1, 3, 5]\n",
            "[4, 6, 8, 3, 1, 7, 5, 2]\n",
            "[4, 7, 1, 8, 5, 2, 6, 3]\n",
            "[4, 7, 3, 8, 2, 5, 1, 6]\n",
            "[4, 7, 5, 2, 6, 1, 3, 8]\n",
            "[4, 7, 5, 3, 1, 6, 8, 2]\n",
            "[4, 8, 1, 3, 6, 2, 7, 5]\n",
            "[4, 8, 1, 5, 7, 2, 6, 3]\n",
            "[4, 8, 5, 3, 1, 7, 2, 6]\n",
            "[5, 1, 4, 6, 8, 2, 7, 3]\n",
            "[5, 1, 8, 4, 2, 7, 3, 6]\n",
            "[5, 1, 8, 6, 3, 7, 2, 4]\n",
            "[5, 2, 4, 6, 8, 3, 1, 7]\n",
            "[5, 2, 4, 7, 3, 8, 6, 1]\n",
            "[5, 2, 6, 1, 7, 4, 8, 3]\n",
            "[5, 2, 8, 1, 4, 7, 3, 6]\n",
            "[5, 3, 1, 6, 8, 2, 4, 7]\n",
            "[5, 3, 1, 7, 2, 8, 6, 4]\n",
            "[5, 3, 8, 4, 7, 1, 6, 2]\n",
            "[5, 7, 1, 3, 8, 6, 4, 2]\n",
            "[5, 7, 1, 4, 2, 8, 6, 3]\n",
            "[5, 7, 2, 4, 8, 1, 3, 6]\n",
            "[5, 7, 2, 6, 3, 1, 4, 8]\n",
            "[5, 7, 2, 6, 3, 1, 8, 4]\n",
            "[5, 7, 4, 1, 3, 8, 6, 2]\n",
            "[5, 8, 4, 1, 3, 6, 2, 7]\n",
            "[5, 8, 4, 1, 7, 2, 6, 3]\n",
            "[6, 1, 5, 2, 8, 3, 7, 4]\n",
            "[6, 2, 7, 1, 3, 5, 8, 4]\n",
            "[6, 2, 7, 1, 4, 8, 5, 3]\n",
            "[6, 3, 1, 7, 5, 8, 2, 4]\n",
            "[6, 3, 1, 8, 4, 2, 7, 5]\n",
            "[6, 3, 1, 8, 5, 2, 4, 7]\n",
            "[6, 3, 5, 7, 1, 4, 2, 8]\n",
            "[6, 3, 5, 8, 1, 4, 2, 7]\n",
            "[6, 3, 7, 2, 4, 8, 1, 5]\n",
            "[6, 3, 7, 2, 8, 5, 1, 4]\n",
            "[6, 3, 7, 4, 1, 8, 2, 5]\n",
            "[6, 4, 1, 5, 8, 2, 7, 3]\n",
            "[6, 4, 2, 8, 5, 7, 1, 3]\n",
            "[6, 4, 7, 1, 3, 5, 2, 8]\n",
            "[6, 4, 7, 1, 8, 2, 5, 3]\n",
            "[6, 8, 2, 4, 1, 7, 5, 3]\n",
            "[7, 1, 3, 8, 6, 4, 2, 5]\n",
            "[7, 2, 4, 1, 8, 5, 3, 6]\n",
            "[7, 2, 6, 3, 1, 4, 8, 5]\n",
            "[7, 3, 1, 6, 8, 5, 2, 4]\n",
            "[7, 3, 8, 2, 5, 1, 6, 4]\n",
            "[7, 4, 2, 5, 8, 1, 3, 6]\n",
            "[7, 4, 2, 8, 6, 1, 3, 5]\n",
            "[7, 5, 3, 1, 6, 8, 2, 4]\n",
            "[8, 2, 4, 1, 7, 5, 3, 6]\n",
            "[8, 2, 5, 3, 1, 7, 4, 6]\n",
            "[8, 3, 1, 6, 2, 5, 7, 4]\n",
            "[8, 4, 1, 3, 6, 2, 7, 5]\n"
          ]
        }
      ]
    },
    {
      "cell_type": "code",
      "metadata": {
        "id": "eTZclKH9QV0R",
        "colab": {
          "base_uri": "https://localhost:8080/"
        },
        "outputId": "ddc73812-867e-4cb8-8044-4a2408f6740b"
      },
      "source": [
        "escribe_solucion([1, 5, 8, 6, 3, 7, 2, 4])"
      ],
      "execution_count": 4,
      "outputs": [
        {
          "output_type": "stream",
          "name": "stdout",
          "text": [
            "\n",
            " X  -  -  -  -  -  -  - \n",
            " -  -  -  -  -  -  X  - \n",
            " -  -  -  -  X  -  -  - \n",
            " -  -  -  -  -  -  -  X \n",
            " -  X  -  -  -  -  -  - \n",
            " -  -  -  X  -  -  -  - \n",
            " -  -  -  -  -  X  -  - \n",
            " -  -  X  -  -  -  -  - "
          ]
        }
      ]
    },
    {
      "cell_type": "code",
      "metadata": {
        "id": "TocxR55dQWq5",
        "outputId": "a949ef73-d050-4929-9d95-3601efb53978",
        "colab": {
          "base_uri": "https://localhost:8080/",
          "height": 365
        }
      },
      "source": [
        "#Viaje por el rio - Programación dinámica\n",
        "################################################################################\n",
        "\n",
        "TARIFAS = [\n",
        "[0,5,4,3,999,999,999],\n",
        "[999,0,999,2,3,999,11],\n",
        "[999,999, 0,1,999,4,10],\n",
        "[999,999,999, 0,5,6,9],\n",
        "[999,999, 999,999,0,999,4],\n",
        "[999,999, 999,999,999,0,3],\n",
        "[999,999,999,999,999,999,0]\n",
        "]\n",
        "\n",
        "#999 se puede sustituir por float(\"inf\")\n",
        "\n",
        "\n",
        "#Calculo de la matriz de PRECIOS y RUTAS\n",
        "################################################################\n",
        "def Precios(TARIFAS):\n",
        "################################################################\n",
        "  #Total de Nodos\n",
        "  N = len(TARIFAS[0])\n",
        "\n",
        "  #Inicialización de la tabla de precios\n",
        "  PRECIOS = [ [9999]*N for i in [9999]*N]\n",
        "  RUTA = [ [\"\"]*N for i in [\"\"]*N]\n",
        "\n",
        "  for i in range(0,N-1):\n",
        "    RUTA[i][i] = i             #Para ir de i a i se \"pasa por i\"\n",
        "    PRECIOS[i][i] = 0          #Para ir de i a i se se paga 0\n",
        "    for j in range(i+1, N):\n",
        "      MIN = TARIFAS[i][j]\n",
        "      RUTA[i][j] = i\n",
        "\n",
        "      for k in range(i, j):\n",
        "        if PRECIOS[i][k] + TARIFAS[k][j] < MIN:\n",
        "            MIN = min(MIN, PRECIOS[i][k] + TARIFAS[k][j] )\n",
        "            RUTA[i][j] = k          #Anota que para ir de i a j hay que pasar por k\n",
        "        PRECIOS[i][j] = MIN\n",
        "\n",
        "  return PRECIOS,RUTA\n",
        "################################################################\n",
        "\n",
        "PRECIOS,RUTA = Precios(TARIFAS)\n",
        "#print(PRECIOS[0][6])\n",
        "\n",
        "print(\"PRECIOS\")\n",
        "for i in range(len(TARIFAS)):\n",
        "  print(PRECIOS[i])\n",
        "\n",
        "print(\"\\nRUTA\")\n",
        "for i in range(len(TARIFAS)):\n",
        "  print(RUTA[i])\n",
        "\n",
        "#Determinar la ruta con Recursividad\n",
        "def calcular_ruta(RUTA, desde, hasta):\n",
        "  if desde == hasta:\n",
        "    #print(\"Ir a :\" + str(desde))\n",
        "    return \"\"\n",
        "  else:\n",
        "    return str(calcular_ruta( RUTA, desde, RUTA[desde][hasta])) +  \\\n",
        "                ',' + \\\n",
        "                str(RUTA[desde][hasta] \\\n",
        "              )\n",
        "\n",
        "print(\"\\nLa ruta es:\")\n",
        "calcular_ruta(RUTA, 0,6)"
      ],
      "execution_count": 5,
      "outputs": [
        {
          "output_type": "stream",
          "name": "stdout",
          "text": [
            "PRECIOS\n",
            "[0, 5, 4, 3, 8, 8, 11]\n",
            "[9999, 0, 999, 2, 3, 8, 7]\n",
            "[9999, 9999, 0, 1, 6, 4, 7]\n",
            "[9999, 9999, 9999, 0, 5, 6, 9]\n",
            "[9999, 9999, 9999, 9999, 0, 999, 4]\n",
            "[9999, 9999, 9999, 9999, 9999, 0, 3]\n",
            "[9999, 9999, 9999, 9999, 9999, 9999, 9999]\n",
            "\n",
            "RUTA\n",
            "[0, 0, 0, 0, 1, 2, 5]\n",
            "['', 1, 1, 1, 1, 3, 4]\n",
            "['', '', 2, 2, 3, 2, 5]\n",
            "['', '', '', 3, 3, 3, 3]\n",
            "['', '', '', '', 4, 4, 4]\n",
            "['', '', '', '', '', 5, 5]\n",
            "['', '', '', '', '', '', '']\n",
            "\n",
            "La ruta es:\n"
          ]
        },
        {
          "output_type": "execute_result",
          "data": {
            "text/plain": [
              "',0,2,5'"
            ],
            "application/vnd.google.colaboratory.intrinsic+json": {
              "type": "string"
            }
          },
          "metadata": {},
          "execution_count": 5
        }
      ]
    },
    {
      "cell_type": "markdown",
      "source": [
        "## Problema: Encontrar los dos puntos más cercanos\n",
        "\n",
        "Dada una lista arbitraria de puntos, hallar el par de puntos más cercanos entre sí."
      ],
      "metadata": {
        "id": "HcaFIjpwNhMk"
      }
    },
    {
      "cell_type": "markdown",
      "source": [
        "#### Escenario 1: Puntos en 1D\n",
        "\n",
        "* Generación de la lista de puntos"
      ],
      "metadata": {
        "id": "xE1Kt0kwNtky"
      }
    },
    {
      "cell_type": "code",
      "source": [
        "import math\n",
        "import random\n",
        "\n",
        "puntos_1d = random.sample(range(0, 99999), 10000)  # Esta aproximación evita que se generen números repetidos"
      ],
      "metadata": {
        "id": "Ub0dQYNDN3zm"
      },
      "execution_count": 6,
      "outputs": []
    },
    {
      "cell_type": "markdown",
      "source": [
        "* Aproximación ingenua: Compara todos los puntos entre sí"
      ],
      "metadata": {
        "id": "WD9vGt8eOLcl"
      }
    },
    {
      "cell_type": "code",
      "source": [
        "def puntos_mas_cercanos_1d_ingenuo(puntos):\n",
        "  p1 = None\n",
        "  p2 = None\n",
        "  distancia_global = math.inf\n",
        "  cantidad = len(puntos)\n",
        "  for i in range(cantidad):\n",
        "    for j in range(i+1, cantidad):\n",
        "      distancia_local = abs(puntos[i] - puntos[j])\n",
        "      if distancia_local < distancia_global:\n",
        "        distancia_global = distancia_local\n",
        "        p1 = puntos[i]\n",
        "        p2 = puntos[j]\n",
        "\n",
        "  return p1, p2"
      ],
      "metadata": {
        "id": "KoQ5HQrgOSqs"
      },
      "execution_count": 7,
      "outputs": []
    },
    {
      "cell_type": "code",
      "source": [
        "p1, p2 = puntos_mas_cercanos_1d_ingenuo(puntos_1d)\n",
        "print(f\"Los putos mas cercanos son {p1} y {p2}.\")"
      ],
      "metadata": {
        "colab": {
          "base_uri": "https://localhost:8080/"
        },
        "id": "HNy_Rt6ieatW",
        "outputId": "8549ef02-8704-42ca-84a0-9746d6cc81b0"
      },
      "execution_count": 8,
      "outputs": [
        {
          "output_type": "stream",
          "name": "stdout",
          "text": [
            "Los putos mas cercanos son 95637 y 95638.\n"
          ]
        }
      ]
    },
    {
      "cell_type": "markdown",
      "source": [
        "La aproximación ingenua para solucionar este problema implica una complejidad del orden:\n",
        "$$O(n^2)$$\n",
        "Y teniendo en cuenta la naturaleza del problema, para el caso de puntos en 1D, resulta posible mejorar esta aproximación haciendo uso de la búsqueda de distancias solo entre puntos vecinos, luego de ordenar estos."
      ],
      "metadata": {
        "id": "BumF7-HHQnbr"
      }
    },
    {
      "cell_type": "code",
      "source": [
        "def puntos_mas_cercanos_1d_orden(puntos):\n",
        "    # Ordenar los puntos\n",
        "    puntos_ordenados = sorted(puntos)\n",
        "\n",
        "    # Inicializar variables para los puntos más cercanos y la distancia mínima\n",
        "    p1 = None\n",
        "    p2 = None\n",
        "    distancia_global = math.inf\n",
        "\n",
        "    # Recorrer los puntos ordenados y encontrar los más cercanos\n",
        "    for i in range(len(puntos_ordenados) - 1):\n",
        "        distancia_local = abs(puntos_ordenados[i] - puntos_ordenados[i + 1])\n",
        "        if distancia_local < distancia_global:\n",
        "            distancia_global = distancia_local\n",
        "            p1 = puntos_ordenados[i]\n",
        "            p2 = puntos_ordenados[i + 1]\n",
        "\n",
        "    return p1, p2"
      ],
      "metadata": {
        "id": "sVJAU1L5RvS0"
      },
      "execution_count": 9,
      "outputs": []
    },
    {
      "cell_type": "code",
      "source": [
        "p1, p2 = puntos_mas_cercanos_1d_orden(puntos_1d)\n",
        "print(f\"Los putos mas cercanos son {p1} y {p2}.\")"
      ],
      "metadata": {
        "colab": {
          "base_uri": "https://localhost:8080/"
        },
        "id": "CPQE1EW7eYIy",
        "outputId": "49e73bae-2b2c-436f-87da-ab508951472c"
      },
      "execution_count": 10,
      "outputs": [
        {
          "output_type": "stream",
          "name": "stdout",
          "text": [
            "Los putos mas cercanos son 6 y 7.\n"
          ]
        }
      ]
    },
    {
      "cell_type": "markdown",
      "source": [
        "La complejidad de esta aproximación depende fundamentalmente del algoritmo de ordenación que se implemente, dado que Python ordena usando el algoritmo TrimSort y la complejidad computacional de este es:\n",
        "$$O(n * log(n))$$\n",
        "Entonces la complejidad de esta aproximación es la misma.\n",
        "\n",
        "**NOTA**: Los resultados obtenidos de ambas aproximaciones pueden cambiar, dado que la aproximación ingenua toma los puntos en orden aleatorio, y puede que existan mas de dos pares de puntos con las mismas distancias mínimas."
      ],
      "metadata": {
        "id": "uvGIojoySpGR"
      }
    },
    {
      "cell_type": "markdown",
      "source": [
        "#### Escenario 2: Puntos en 2D\n",
        "\n",
        "* Generación de la lista de puntos"
      ],
      "metadata": {
        "id": "2N-a48aFTk2C"
      }
    },
    {
      "cell_type": "code",
      "source": [
        "import itertools\n",
        "\n",
        "coordenadas_x = random.sample(range(0, 99999), 10000)\n",
        "coordenadas_y = random.sample(range(0, 99999), 10000)\n",
        "puntos_2d = list(zip(coordenadas_x, coordenadas_y))"
      ],
      "metadata": {
        "id": "tbRqZAhkUFyz"
      },
      "execution_count": 11,
      "outputs": []
    },
    {
      "cell_type": "markdown",
      "source": [
        "* Definir la función de distancia\n",
        "\n",
        "Dado que para propósitos de comparación, el cálculo de raíces cuadradas es redundante, se puede reducir la función del cálculo de distancia entre dos puntos de la siguiente forma:"
      ],
      "metadata": {
        "id": "NursYgQjV1f5"
      }
    },
    {
      "cell_type": "code",
      "source": [
        "def distancia_2d(p1, p2):\n",
        "  return (p1[0] - p2[0])**2 + (p1[1] - p2[1])**2"
      ],
      "metadata": {
        "id": "ICJI_em6V5Ih"
      },
      "execution_count": 12,
      "outputs": []
    },
    {
      "cell_type": "markdown",
      "source": [
        "* Función de \"escape\":\n",
        "\n",
        "Es necesario disponer de una función para calcular los dos puntos más cercanos, cuando el subconjunto de punto a evaluar sea menor o igual a 3."
      ],
      "metadata": {
        "id": "VyVyXK0cZkkL"
      }
    },
    {
      "cell_type": "code",
      "source": [
        "def puntos_mas_cercanos_2d_ingenuo(puntos):\n",
        "  p1 = None\n",
        "  p2 = None\n",
        "  distancia_global = math.inf\n",
        "  cantidad = len(puntos)\n",
        "  for i in range(cantidad):\n",
        "    for j in range(i+1, cantidad):\n",
        "      distancia_local = distancia_2d(puntos[i], puntos[j])\n",
        "      if distancia_local < distancia_global:\n",
        "        distancia_global = distancia_local\n",
        "        p1 = puntos[i]\n",
        "        p2 = puntos[j]\n",
        "\n",
        "  return p1, p2, distancia_global"
      ],
      "metadata": {
        "id": "e4vSIi4sZ2Cl"
      },
      "execution_count": 13,
      "outputs": []
    },
    {
      "cell_type": "markdown",
      "source": [
        "* Aplicando \"Divide y Vencerás\""
      ],
      "metadata": {
        "id": "22nR9deZXPJ1"
      }
    },
    {
      "cell_type": "code",
      "source": [
        "def puntos_mas_cercanos_2d_divide_y_venceras(puntos):\n",
        "\n",
        "  # Cuando el subconjunto de puntos a evaluar sea muy pequeño para subdividir, se recurre a la aproximación ingenua.\n",
        "  if len(puntos) <= 3:\n",
        "      return puntos_mas_cercanos_2d_ingenuo(puntos)\n",
        "\n",
        "  medio = len(puntos) // 2\n",
        "  mitad_izquierda = puntos[:medio]\n",
        "  mitad_derecha = puntos[medio:]\n",
        "\n",
        "  (punto1_izq, punto2_izq, dist_izq) = puntos_mas_cercanos_2d_divide_y_venceras(mitad_izquierda)\n",
        "  (punto1_der, punto2_der, dist_der) = puntos_mas_cercanos_2d_divide_y_venceras(mitad_derecha)\n",
        "\n",
        "  if dist_izq < dist_der:\n",
        "      d = dist_izq\n",
        "      par_minimo = (punto1_izq, punto2_izq)\n",
        "  else:\n",
        "      d = dist_der\n",
        "      par_minimo = (punto1_der, punto2_der)\n",
        "\n",
        "  # Comprobar la franja central\n",
        "  puntos_franja = [punto for punto in puntos if abs(punto[0] - puntos[medio][0]) < d]\n",
        "\n",
        "  # Ordenar por coordenada Y\n",
        "  puntos_franja.sort(key=lambda punto: punto[1])\n",
        "\n",
        "  for i in range(len(puntos_franja)):\n",
        "      for j in range(i + 1, min(i + 7, len(puntos_franja))):\n",
        "          p1, p2 = puntos_franja[i], puntos_franja[j]\n",
        "          distancia_franja = distancia_2d(p1, p2)\n",
        "          if distancia_franja < d:\n",
        "              d = distancia_franja\n",
        "              par_minimo = (p1, p2)\n",
        "\n",
        "  return par_minimo[0], par_minimo[1], d"
      ],
      "metadata": {
        "id": "dMJR_rDMXWjj"
      },
      "execution_count": 14,
      "outputs": []
    },
    {
      "cell_type": "markdown",
      "source": [
        "Para obtener el mejor rendimiento de esta aproximación es necesario ordenar los puntos por su coordenada **X**."
      ],
      "metadata": {
        "id": "i_x_KJitX8fE"
      }
    },
    {
      "cell_type": "code",
      "source": [
        "puntos = sorted(puntos_2d, key=lambda x: x[0])\n",
        "punto1, punto2, dist = puntos_mas_cercanos_2d_divide_y_venceras(puntos)\n",
        "print(f\"Los dos puntos más cercanos son: {punto1} y {punto2} con una distancia de {dist}\")"
      ],
      "metadata": {
        "colab": {
          "base_uri": "https://localhost:8080/"
        },
        "id": "E6NKZoe3YEsN",
        "outputId": "cd70ecdf-a564-4547-ac5c-d474a8bdaf4b"
      },
      "execution_count": 15,
      "outputs": [
        {
          "output_type": "stream",
          "name": "stdout",
          "text": [
            "Los dos puntos más cercanos son: (83326, 13048) y (83334, 13053) con una distancia de 89\n"
          ]
        }
      ]
    },
    {
      "cell_type": "markdown",
      "source": [
        "* Cálculo de la complejidad:\n",
        "\n",
        "    La complejidad para los pasos realizados es:\n",
        "\n",
        "    1. Ordenamiento: O(n log n)\n",
        "    2. División del conjunto de puntos: O(log n)\n",
        "    3. Búsqueda del par más cercano en cada mitad: O(n log n)\n",
        "    4. Manejo de la franja central: O(n)\n",
        "\n",
        "    Por tanto, la complejidad máxima de este algoritmo se estima en:\n",
        "$$O(n * log(n))$$\n"
      ],
      "metadata": {
        "id": "9GySoCsja7Zf"
      }
    },
    {
      "cell_type": "markdown",
      "source": [
        "* Aproximación mediante triangulación de Delaunay\n",
        "\n",
        "  Utilizar la triangulación de Delaunay para encontrar los dos puntos más cercanos en un conjunto de puntos 2D es una aproximación interesante; dado que la triangulación de Delaunay conecta puntos de manera que no existen puntos dentro del círculo circunscrito de cualquier triángulo en la triangulación.\n",
        "\n",
        "  Esto implica una propiedad útil para el problema, ya que, si dos puntos están muy cerca uno del otro en comparación con los otros puntos, es muy probable que formen un borde en la triangulación."
      ],
      "metadata": {
        "id": "4HgpV7t9cVDf"
      }
    },
    {
      "cell_type": "code",
      "source": [
        "from scipy.spatial import Delaunay\n",
        "import numpy as np"
      ],
      "metadata": {
        "id": "v18CC8h1cl0s"
      },
      "execution_count": 16,
      "outputs": []
    },
    {
      "cell_type": "markdown",
      "source": [
        "* Definir la función en base a la triangulación"
      ],
      "metadata": {
        "id": "KiSgRITedU3U"
      }
    },
    {
      "cell_type": "code",
      "source": [
        "def puntos_mas_cercanos_2d_delaunay(puntos):\n",
        "  # Realizar la Triangulación de Delaunay\n",
        "  tri = Delaunay(puntos)\n",
        "\n",
        "  distancia_minima = math.inf\n",
        "  punto1_min = None\n",
        "  punto2_min = None\n",
        "\n",
        "  # Buscar el borde más corto\n",
        "  for simplex in tri.simplices:\n",
        "      for i in range(3):\n",
        "          punto1, punto2 = puntos[simplex[i]], puntos[simplex[(i + 1) % 3]]\n",
        "          distancia = distancia_2d(punto1, punto2)\n",
        "          if distancia < distancia_minima:\n",
        "              distancia_minima = distancia\n",
        "              punto1_min = punto1\n",
        "              punto2_min = punto2\n",
        "\n",
        "  return punto1_min, punto2_min, distancia_minima"
      ],
      "metadata": {
        "id": "aOEqe-_IddYX"
      },
      "execution_count": 17,
      "outputs": []
    },
    {
      "cell_type": "markdown",
      "source": [
        "Para ejecutar esta aproximación no se requiere ordenar los puntos previamente."
      ],
      "metadata": {
        "id": "JpwLaGj7d9Pa"
      }
    },
    {
      "cell_type": "code",
      "source": [
        "punto1, punto2, distancia = puntos_mas_cercanos_2d_delaunay(puntos_2d)\n",
        "print(f\"Los dos puntos más cercanos son: {punto1} y {punto2}, con una distancia de {distancia}.\")"
      ],
      "metadata": {
        "colab": {
          "base_uri": "https://localhost:8080/"
        },
        "id": "Emr0dEsmeGuG",
        "outputId": "be84123d-e57a-4d2f-a1c5-c85d7905a418"
      },
      "execution_count": 18,
      "outputs": [
        {
          "output_type": "stream",
          "name": "stdout",
          "text": [
            "Los dos puntos más cercanos son: (83326, 13048) y (83334, 13053), con una distancia de 89.\n"
          ]
        }
      ]
    },
    {
      "cell_type": "markdown",
      "source": [
        "Si ya se dispone de la una triangulación de Delaunay, es posible resolver el problema de los puntos más cercanos en 2D en un tiempo lineal."
      ],
      "metadata": {
        "id": "i2WJeAc1egzy"
      }
    },
    {
      "cell_type": "markdown",
      "source": [
        "### Escenario 3: Puntos en 3D\n",
        "\n",
        "Para el espacio en 3 dimensiones en más, realmente no hay muchas más optimizaciones de las que se pueda hacer uso, por ejemplo, para el caso de la triangulación de Delaunay, esta no está del todo definida para espacios en tres dimensiones, así que la aproximación de \"Divide y vencerás\" es análoga a la de 2D, solo modificando la función de distancia."
      ],
      "metadata": {
        "id": "q99fwsxPe_3x"
      }
    },
    {
      "cell_type": "markdown",
      "source": [
        "* Generando la lista de puntos\n"
      ],
      "metadata": {
        "id": "j4ZGxv7ofjOh"
      }
    },
    {
      "cell_type": "code",
      "source": [
        "coordenadas_x = random.sample(range(0, 99999), 10000)\n",
        "coordenadas_y = random.sample(range(0, 99999), 10000)\n",
        "coordenadas_z = random.sample(range(0, 99999), 10000)\n",
        "puntos_3d = list(zip(coordenadas_x, coordenadas_y, coordenadas_z))"
      ],
      "metadata": {
        "id": "Z2GDhyzcfsmd"
      },
      "execution_count": 19,
      "outputs": []
    },
    {
      "cell_type": "markdown",
      "source": [
        "* Definir la función de distancia"
      ],
      "metadata": {
        "id": "tPQLgZiZf6_C"
      }
    },
    {
      "cell_type": "code",
      "source": [
        "def distancia_3d(p1, p2):\n",
        "    return (p1[0] - p2[0])**2 + (p1[1] - p2[1])**2 + (p1[2] - p2[2])**2"
      ],
      "metadata": {
        "id": "4nLMGmdjf_Rs"
      },
      "execution_count": 20,
      "outputs": []
    },
    {
      "cell_type": "markdown",
      "source": [
        "* Definir la función de \"escape\""
      ],
      "metadata": {
        "id": "QqRIGjkNgQKs"
      }
    },
    {
      "cell_type": "code",
      "source": [
        "def puntos_mas_cercanos_3d_ingenuo(puntos):\n",
        "  p1 = None\n",
        "  p2 = None\n",
        "  distancia_global = math.inf\n",
        "  cantidad = len(puntos)\n",
        "  for i in range(cantidad):\n",
        "    for j in range(i+1, cantidad):\n",
        "      distancia_local = distancia_3d(puntos[i], puntos[j])\n",
        "      if distancia_local < distancia_global:\n",
        "        distancia_global = distancia_local\n",
        "        p1 = puntos[i]\n",
        "        p2 = puntos[j]\n",
        "\n",
        "  return p1, p2, distancia_global"
      ],
      "metadata": {
        "id": "9DFIdRX5gYF8"
      },
      "execution_count": 21,
      "outputs": []
    },
    {
      "cell_type": "markdown",
      "source": [
        "* Aplicar \"Divide y Vencerás\""
      ],
      "metadata": {
        "id": "ksn2fdv8gwet"
      }
    },
    {
      "cell_type": "code",
      "source": [
        "def puntos_mas_cercanos_3d(puntos):\n",
        "\n",
        "   # Cuando el subconjunto de puntos a evaluar se muy pequeño para subdividir, se recurre a la aproximación ingenua.\n",
        "  if len(puntos) <= 3:\n",
        "      return puntos_mas_cercanos_3d_ingenuo(puntos)\n",
        "\n",
        "  medio = len(puntos) // 2\n",
        "  mitad_izquierda = puntos[:medio]\n",
        "  mitad_derecha = puntos[medio:]\n",
        "\n",
        "  (punto1_izq, punto2_izq, dist_izq) = puntos_mas_cercanos_3d(mitad_izquierda)\n",
        "  (punto1_der, punto2_der, dist_der) = puntos_mas_cercanos_3d(mitad_derecha)\n",
        "\n",
        "  if dist_izq < dist_der:\n",
        "      d = dist_izq\n",
        "      par_minimo = (punto1_izq, punto2_izq)\n",
        "  else:\n",
        "      d = dist_der\n",
        "      par_minimo = (punto1_der, punto2_der)\n",
        "\n",
        "  # Comprobar la franja central\n",
        "  puntos_franja = [punto for punto in puntos if abs(punto[0] - puntos[medio][0]) < d]\n",
        "\n",
        "  # Ordenar por coordenada Y\n",
        "  puntos_franja.sort(key=lambda punto: punto[1])\n",
        "\n",
        "  for i in range(len(puntos_franja)):\n",
        "      for j in range(i + 1, min(i + 7, len(puntos_franja))):\n",
        "          p1, p2 = puntos_franja[i], puntos_franja[j]\n",
        "          distancia_franja = distancia_2d(p1, p2)\n",
        "          if distancia_franja < d:\n",
        "              d = distancia_franja\n",
        "              par_minimo = (p1, p2)\n",
        "\n",
        "  return par_minimo[0], par_minimo[1], d"
      ],
      "metadata": {
        "id": "CH1oZ7tWg0g_"
      },
      "execution_count": 22,
      "outputs": []
    },
    {
      "cell_type": "code",
      "source": [
        "puntos = sorted(puntos_3d, key=lambda x: x[0])\n",
        "punto1, punto2, dist = puntos_mas_cercanos_3d(puntos)\n",
        "print(f\"Los dos puntos más cercanos son: {punto1} y {punto2} con una distancia de {dist}\")"
      ],
      "metadata": {
        "colab": {
          "base_uri": "https://localhost:8080/"
        },
        "id": "phjhrxMOhnnU",
        "outputId": "f5b17919-27c0-45a8-83b8-2a4d5ee14cd8"
      },
      "execution_count": 23,
      "outputs": [
        {
          "output_type": "stream",
          "name": "stdout",
          "text": [
            "Los dos puntos más cercanos son: (75555, 9376, 78568) y (75565, 9378, 70870) con una distancia de 104\n"
          ]
        }
      ]
    },
    {
      "cell_type": "markdown",
      "source": [
        "* Cáculo de la complejidad\n",
        "\n",
        "Dado que la única diferencia real que existe con la versión de 2D es la función que calcula la distancia, es posible afirmar que la complejidad general de esta aproximación es:\n",
        "$$O(n*log(n))$$"
      ],
      "metadata": {
        "id": "NHro11cBikzV"
      }
    }
  ]
}