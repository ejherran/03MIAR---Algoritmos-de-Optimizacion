{
  "nbformat": 4,
  "nbformat_minor": 0,
  "metadata": {
    "colab": {
      "provenance": [],
      "include_colab_link": true
    },
    "kernelspec": {
      "name": "python3",
      "display_name": "Python 3"
    }
  },
  "cells": [
    {
      "cell_type": "markdown",
      "metadata": {
        "id": "view-in-github",
        "colab_type": "text"
      },
      "source": [
        "<a href=\"https://colab.research.google.com/github/ejherran/03MIAR---Algoritmos-de-Optimizacion/blob/main/Algoritmos_EdisonJavierHerranCortes_TrabajoPractico.ipynb\" target=\"_parent\"><img src=\"https://colab.research.google.com/assets/colab-badge.svg\" alt=\"Open In Colab\"/></a>"
      ]
    },
    {
      "cell_type": "markdown",
      "metadata": {
        "id": "hVbXYX-RfPWh"
      },
      "source": [
        "# Algoritmos de optimización - Trabajo Práctico<br>\n",
        "Nombre y Apellidos: Edison Javier Herran Cortes<br>\n",
        "Url: https://github.com/ejherran/03MIAR---Algoritmos-de-Optimizacion/blob/main/Algoritmos_EdisonJavierHerranCortes_TrabajoPractico.ipynb<br>\n",
        "Google Colab: https://colab.research.google.com/drive/1EOFidbwoSQRlwCwGdkT_FnTF6_W8WCCE?usp=sharing <br>\n",
        "Problema:\n",
        ">1. Sesiones de doblaje <br>\n",
        "\n",
        "## Descripción del problema:\n",
        "Se precisa coordinar el doblaje de una película. Los actores del doblaje deben coincidir en las tomas en las que sus personajes aparecen juntos en las diferentes tomas. Los actores de doblaje cobran todos la misma cantidad por cada día que deben desplazarse hasta el estudio de grabación independientemente del número de tomas que se graben. No es posible grabar más de 6 tomas por día. El objetivo es planificar las sesiones por día de manera que el gasto por los servicios de los actores de doblaje sea el menor posible.\n",
        "\n",
        "Número de actores: 10 <br>\n",
        "Número de tomas : 30 <br>\n",
        "Actores/Tomas : https://bit.ly/36D8IuK\n",
        "\n",
        "\n",
        "\n",
        "\n",
        "\n",
        "\n",
        "\n",
        "\n",
        "\n",
        "                                        "
      ]
    },
    {
      "cell_type": "markdown",
      "source": [
        "#Modelo\n",
        "- ¿Como represento el espacio de soluciones?\n",
        "- ¿Cual es la función objetivo?\n",
        "- ¿Como implemento las restricciones?"
      ],
      "metadata": {
        "id": "Sbo9IqQtpaHZ"
      }
    },
    {
      "cell_type": "markdown",
      "source": [
        "## Consideraciones Iniciales:\n",
        "\n",
        "1. Todos los actores cobran lo mismo, por tanto minimizar el costo del doblaje implica minimizar la suma de las sesiones de doblaje de todos los actores.\n",
        "\n",
        "2. Ningún actor puede tener más tomas que la cantidad total de tomas de la película.\n",
        "\n",
        "3. Las tomas se realizan una por una. Por tanto no existe impedimento para que un actor realice el máximo de tomas por día.\n",
        "\n",
        "4. Teniendo en cuenta las consideraciones **2** y **3**, es posible realizar todo el doblaje en 5 días. Por tanto el costo máximo sería de **50**, llamando a sesión de doblaje a todos los actores todos los días.\n",
        "\n",
        "5. El orden de las tomas que se realizan un mismo día es irrelevante. De igual forma el orden de los días de grabaciones es irrelevante.\n",
        "\n",
        "## Espacio de Soluciones:\n",
        "\n",
        "Teniendo en cuenta las premisas anteriores; las soluciones a este problemas pueden representarse como una lista de números, donde cada número representa la toma a realizar. Asumiendo que cada 6 número consecutivos representan un día completo de grabación.\n",
        "\n",
        "Ahora bien, teniendo en cuenta la premisa 5, es posible disgregar la solución de un día puntual del resto, pudiendo representar la solución parcial de un día como un conjunto (SET) de número enteros.\n",
        "\n",
        "## Función Objetivo\n",
        "\n",
        "Para optimizar este problema, se busca minimizar la función $Fx(x)$ tal que $x$ sea la secuencia de tomas a realizar, y $F(x)$ el número total de sesiones de grabación de los actores.\n",
        "\n",
        "## Restricciones\n",
        "\n",
        "Las restricciones de este problema, son esencialmente  dos, a saber:\n",
        "\n",
        "1. **El número máximo de tomas por día**: Esto puede representarse fácilmente como un parámetro o atributo, que condiciona el tamaño máximo de los conjuntos que representan las tomas realizadas en un mismo día.\n",
        "\n",
        "2. **Los actores necesarios para realizar una toma**: Para representar esta restricción, se ha diseñado un estructura de datos, basada en un diccionario. Donde las claves representan los identificadores de las tomas y los valores son un conjunto de enteros con los identificadores de los actores. De esta forma en la función objetivo al recibir un conjunto de con los identificadores de las tomas, basta con obtener los conjuntos de sus actores correspondientes y realizar una unión de conjuntos.\n",
        "\n",
        "El uso de conjuntos de Python, facilita enormemente la resolución de este problema, ya que permite realizar operaciones de conjuntos de forma directa, y adicionalmente garantiza dos propiedad básicas de este problema, a saber:\n",
        "\n",
        "1. El orden de los elementos (tomas o actores) dentro del conjunto es irrelevante.\n",
        "2. Dentro de un mismo conjunto no se pueden repetir elementos.\n",
        "\n",
        "\n",
        "\n"
      ],
      "metadata": {
        "id": "67p_vszBposu"
      }
    },
    {
      "cell_type": "code",
      "metadata": {
        "id": "AiskKkzZfy4e",
        "colab": {
          "base_uri": "https://localhost:8080/"
        },
        "outputId": "a823295f-ee8e-406c-96ca-c9874ab8ff70"
      },
      "source": [
        "import random\n",
        "from typing import List, Set, Dict, Tuple, Optional\n",
        "\n",
        "# Ejemplo de solución.\n",
        "SOLUTION_EXAMPLE: List[Set[int]] = [\n",
        "    {14, 17, 18, 19, 23, 24},\n",
        "    {7, 9, 13, 27, 28, 30},\n",
        "    {1, 6, 16, 20, 22, 25},\n",
        "    {3, 4, 8, 15, 21, 29},\n",
        "    {2, 5, 10, 11, 12, 26}\n",
        "]\n",
        "\n",
        "# Restricción de actores por toma\n",
        "MOVIE: Dict[int, Set[int]] = {\n",
        "    1:{1, 2, 3, 4, 5},\n",
        "    2:{3, 4, 5},\n",
        "    3:{2, 5, 7},\n",
        "    4:{1, 2, 7, 8},\n",
        "    5:{2, 4, 8},\n",
        "    6:{1, 2, 4, 5},\n",
        "    7:{1, 2, 4, 5},\n",
        "    8:{1, 2, 6},\n",
        "    9:{1, 2, 4},\n",
        "    10:{1, 2, 6, 9},\n",
        "    11:{1, 2, 3, 5, 8},\n",
        "    12:{1, 2, 3, 4, 6},\n",
        "    13:{1, 4, 5},\n",
        "    14:{1, 3, 6},\n",
        "    15:{1, 2, 7},\n",
        "    16:{4, 10},\n",
        "    17:{1, 3},\n",
        "    18:{3, 6},\n",
        "    19:{1, 3},\n",
        "    20:{1, 3, 4, 5},\n",
        "    21:{6, 8},\n",
        "    22:{1, 2, 3, 4},\n",
        "    23:{1, 3},\n",
        "    24:{3, 6},\n",
        "    25:{1, 2, 4, 10},\n",
        "    26:{1, 3, 5, 9},\n",
        "    27:{4, 5},\n",
        "    28:{1, 4},\n",
        "    29:{1, 5, 6},\n",
        "    30:{1, 4},\n",
        "}\n",
        "\n",
        "# Concepto de función objetivo\n",
        "def target_function(\n",
        "    movie: Dict[int, Set[int]],\n",
        "    solution: List[Set[int]]\n",
        ") -> int:\n",
        "  total_actors_needed = 0\n",
        "\n",
        "  for day in solution:\n",
        "    necessary_actors = set()\n",
        "\n",
        "    for shot in day:\n",
        "      necessary_actors = necessary_actors.union(movie[shot])\n",
        "\n",
        "    total_actors_needed += len(necessary_actors)\n",
        "\n",
        "  return total_actors_needed\n",
        "\n",
        "R = target_function(MOVIE, SOLUTION_EXAMPLE)\n",
        "\n",
        "print(f\"The necessary total number of sessions for the voice actors is: {R}\")"
      ],
      "execution_count": 21,
      "outputs": [
        {
          "output_type": "stream",
          "name": "stdout",
          "text": [
            "The necessary total number of sessions for the voice actors is: 27\n"
          ]
        }
      ]
    },
    {
      "cell_type": "markdown",
      "source": [
        "#Análisis\n",
        "- ¿Que complejidad tiene el problema?. Orden de complejidad y Contabilizar el espacio de soluciones"
      ],
      "metadata": {
        "id": "HZz52wOppp-U"
      }
    },
    {
      "cell_type": "markdown",
      "source": [
        "## Orden de Complejidad\n",
        "\n",
        "Abordando el problema desde la perspectiva previamente descrita, el orden de complejidad del problema es de carácter **factorial**. $O(n!)$, donde $n$ es el número de tomas.\n",
        "\n",
        "## Espacio de Soluciones\n",
        "\n",
        "Dado que la solución implica ordenar $30$ tomas, el número total de posibles permutaciones es de:\n",
        "\n",
        "$$\n",
        "30! ≈ 2.65  \\times 10^{32}\n",
        "$$\n",
        "\n",
        "Sin embargo, dado que el orden de las tomas que se realizan en un mismo día es irrelevante, y de igual forma es irrelevante el orden en que se llevan a cabo los días de grabación, se tiene que el espacio de soluciones está dado por:\n",
        "\n",
        "$$\n",
        "\\frac{{\\binom{30}{6} \\cdot \\binom{24}{6} \\cdot \\binom{18}{6} \\cdot \\binom{12}{6} \\cdot \\binom{6}{6}}}{{5!}} ≈ 1.14 \\times 10^{16}\n",
        "$$\n"
      ],
      "metadata": {
        "id": "zgJbUtfD4RPc"
      }
    },
    {
      "cell_type": "code",
      "source": [
        "from math import comb, factorial\n",
        "\n",
        "# Espacio de soluciones ingenuo\n",
        "naive_solutions = factorial(30)\n",
        "print(\"Naive Solutions:\\t{:e}\".format(naive_solutions))\n",
        "\n",
        "# Espacio de soluciones significativamente diferentes\n",
        "binomials = (comb(30, 6) * comb(24, 6) * comb(18, 6) * comb(12, 6) * comb(6, 6))\n",
        "meaningful_solutions = binomials / factorial(5)\n",
        "print(\"Meaningful solutions:\\t{:e}\".format(meaningful_solutions))"
      ],
      "metadata": {
        "id": "CZ-5BmpspttV",
        "colab": {
          "base_uri": "https://localhost:8080/"
        },
        "outputId": "bde9d561-b66a-473b-89be-b770b87ef259"
      },
      "execution_count": 22,
      "outputs": [
        {
          "output_type": "stream",
          "name": "stdout",
          "text": [
            "Naive Solutions:\t2.652529e+32\n",
            "Meaningful solutions:\t1.142395e+16\n"
          ]
        }
      ]
    },
    {
      "cell_type": "markdown",
      "source": [
        "#Diseño\n",
        "- ¿Que técnica utilizo? ¿Por qué?"
      ],
      "metadata": {
        "id": "ixEJUwH_pv7M"
      }
    },
    {
      "cell_type": "markdown",
      "source": [
        "## Diseño Planteado\n",
        "\n",
        "Se propone un diseño mixto, que combina las técnicas de Búsqueda Voraz y Algoritmos Evolutivos. Esto fundamentado en los siguientes aspectos:\n",
        "\n",
        "La búsqueda voraz permite intensificar la precisión de las soluciones, y usada de forma secuencial permite reducir significativamente el espacio de soluciones al descartar las tomas que ya se hayan utilizado para definir un día de grabaciones.\n",
        "\n",
        "El algoritmo evolutivo, ofrece una excelente aproximación para optimizar la configuración de un día de grabaciones, sin tener que explorar todas las posibles soluciones, las cuales son muchas especialmente en los primeros días. Gracias a este enfoque es posible obtener una muy buena configuración para un día de grabaciones, con tan solo unas miles de generaciones.\n",
        "\n",
        "El enfoque evolutivo, por su naturaleza misma sirve de contrapeso a la búsqueda voraz, ya que al no ofrecer una solución perfectamente óptima, permite incrementar la diversificación de las soluciones, logrando que en conjunto se obtenga un solución la cual contempla más que solo mínimos locales para cada día y que por tanto sea mejor en general.\n",
        "\n",
        "## Arquitectura\n",
        "\n",
        "El sistema consta de dos capas, una capa interna la cual contiene un algoritmo evolutivo encargado de optimizar la configuración de un solo día de grabaciones; y un capa externa, la cual es un algoritmo de búsqueda voraz el cual trata de obtener la mejor configuración para un día de grabaciones, y va reduciendo el número de tomas a asignar a medida que estas van siendo usadas.\n",
        "\n",
        "### Optimizador Evolutivo\n",
        "\n",
        "Esta capa toma como entrada el diccionario de tomás de la película, y el máximo de tomas por día, así cómo algunos hiperparámetros para ajustar su rendimiento (número máximo de generaciones, tolerancia de estancamiento y semilla aleatoria).\n",
        "\n",
        "El algoritmo sigue los siguientes pasos:\n",
        "\n",
        "1. Construir un sujeto inicial de forma aleatoria, donde sus “genes” son los identificadores de las tomas. La cantidad de genes está dada por el máximo de tomas por día.\n",
        "\n",
        "2. Calcular su puntaje de rendimiento, entre más bajo sea el valor, más óptimo se considera el sujeto. Este cálculo se hace en base a cuántos actores se requieren para grabar las tomas contenidas en el genoma del individuo.\n",
        "\n",
        "3. Mutar al individuo, se toma un gen aleatorio del individuo y se cambia por otro, que no esté presente en el genoma.\n",
        "\n",
        "4. Se calcula el puntaje de rendimiento del sujeto mutado, si este es mejor o igual que el del sujeto base, se actualiza el genoma del sujeto base. Solo si el rendimiento es mejor se anula el contador de estancamiento.\n",
        "\n",
        "5. Se repiten los pasos 3 y 4 hasta agotar el máximo de generaciones o alcanzar el límite de tolerancia al estancamiento.\n",
        "\n",
        "6. Como resultado se obtiene la configuración para un día de grabaciones y la cantidad de actores necesarios para llevar a cabo las tomas seleccionadas.\n"
      ],
      "metadata": {
        "id": "gfzRImbtB980"
      }
    },
    {
      "cell_type": "code",
      "source": [
        "# Optimizador Evolutivo\n",
        "class EvolutionaryOptimizer:\n",
        "    def __init__(\n",
        "        self,\n",
        "        *,\n",
        "        movie: Dict[int, Set[int]],\n",
        "        shots_per_day: int,\n",
        "        max_generations: int = 10000,\n",
        "        max_stagnation: int = 1000,\n",
        "        random_seed: Optional[int] = None\n",
        "    ) -> None:\n",
        "        random.seed(random_seed)\n",
        "\n",
        "        self.movie = movie\n",
        "        self.shots_per_day = shots_per_day\n",
        "        self.max_generations = max_generations\n",
        "        self.max_stagnation = max_stagnation\n",
        "\n",
        "        self.shots = list(movie.keys())\n",
        "        self.subject = self.generate_subject()\n",
        "\n",
        "    def fitness(self, shots: List[int]) -> int:\n",
        "        actors = set()\n",
        "        for shot in shots:\n",
        "            actors = actors.union(self.movie[shot])\n",
        "\n",
        "        return len(actors)\n",
        "\n",
        "    def generate_subject(self) -> Tuple[int, Set[int]]:\n",
        "        genes = set(random.sample(self.shots, self.shots_per_day))\n",
        "        score = self.fitness(genes)\n",
        "        return (score, genes)\n",
        "\n",
        "    def evolve(self) -> bool:\n",
        "        base_genes = self.subject[1]\n",
        "        posible_genes = list(set(self.shots) - base_genes)\n",
        "        base_genes = list(base_genes)\n",
        "\n",
        "        target_gene = random.choice(range(len(base_genes)))\n",
        "        base_genes[target_gene] = random.choice(posible_genes)\n",
        "\n",
        "        new_genes = set(base_genes)\n",
        "        new_score = self.fitness(new_genes)\n",
        "\n",
        "        has_evolved = new_score < self.subject[0]\n",
        "\n",
        "        if new_score <= self.subject[0]:\n",
        "            self.subject = (new_score, new_genes)\n",
        "\n",
        "        return has_evolved\n",
        "\n",
        "    def run(self):\n",
        "        stagnant_generations = 0\n",
        "        for _ in range(self.max_generations):\n",
        "            has_evolved = self.evolve()\n",
        "            if has_evolved:\n",
        "                stagnant_generations = 0\n",
        "            else:\n",
        "                stagnant_generations += 1\n",
        "\n",
        "            if stagnant_generations == self.max_stagnation:\n",
        "                break"
      ],
      "metadata": {
        "id": "ZdKPjB9gp2BA"
      },
      "execution_count": 23,
      "outputs": []
    },
    {
      "cell_type": "markdown",
      "source": [
        "### Manejador Voraz\n",
        "\n",
        "Esta capa recibe los mismos parámetros que el Optimizador Evolutivo, pues su trabajo es básicamente configurar la ejecución de este y consolidar sus resultados.\n",
        "\n",
        "El algoritmo sigue los siguientes pasos:\n",
        "\n",
        "1. Configurar las estructuras de datos necesarias para el problema: Diccionario de tomás, lista de identificadores de las tomas y contador de actores.\n",
        "\n",
        "2. Llamar al optimizador con la lista de tomas pendientes. Para el día 1 están todas las tomas de la película.\n",
        "\n",
        "3. Almacenar el resultado del optimizador en la lista de días.\n",
        "\n",
        "4. Eliminar de las tomas que haya seleccionado optimizador, de forma que se reduzca el espacio de soluciones.\n",
        "\n",
        "5. Repetir los pasos 2 a 4, mientras que la cantidad de toma pendientes sea mayor a la cantidad máxima de tomas por día.\n",
        "\n",
        "Dado que el orden de las tomas dentro de un mismo día no importa, cuando la cantidad de tomas pendientes es menor o igual a la cantidad máxima de tomas por día, existe solo una solución significativa y por tanto no es necesario llamar al optimizador.\n"
      ],
      "metadata": {
        "id": "hVMa17A2cHJa"
      }
    },
    {
      "cell_type": "code",
      "source": [
        "class GreedyManager:\n",
        "    def __init__(\n",
        "        self,\n",
        "        *,\n",
        "        movie: Dict[int, Set[int]],\n",
        "        shots_per_day: int,\n",
        "        max_generations: int = 10000,\n",
        "        max_stagnation: int = 1000,\n",
        "        random_seed: Optional[int] = None\n",
        "    ) -> None:\n",
        "        self.movie = movie.copy()\n",
        "        self.shots_per_day = shots_per_day\n",
        "        self.max_generations = max_generations\n",
        "        self.max_stagnation = max_stagnation\n",
        "        self.random_seed = random_seed\n",
        "\n",
        "    def optimize(self) -> None:\n",
        "        movie = self.movie.copy()\n",
        "        shots = list(movie.keys())\n",
        "        self.days = []\n",
        "        self.total_actors = 0\n",
        "\n",
        "        while len(shots) > self.shots_per_day:\n",
        "            optimizer = EvolutionaryOptimizer(\n",
        "                movie=movie,\n",
        "                shots_per_day=self.shots_per_day,\n",
        "                max_generations=self.max_generations,\n",
        "                max_stagnation=self.max_stagnation,\n",
        "                random_seed=self.random_seed\n",
        "            )\n",
        "\n",
        "            optimizer.run()\n",
        "            self.days.append(optimizer.subject)\n",
        "\n",
        "            for shot in optimizer.subject[1]:\n",
        "                shots.remove(shot)\n",
        "                del movie[shot]\n",
        "\n",
        "        score = optimizer.fitness(shots)\n",
        "        self.days.append((score, set(shots)))\n",
        "        self.total_actors = sum([day[0] for day in self.days])\n",
        "\n",
        "    def print_result(self) -> None:\n",
        "        for i, day in enumerate(self.days):\n",
        "            print(f\"Day {i+1} shots: {day[1]}\\t|\\tNecessary actors: {day[0]}\")\n",
        "        print(f\"\\n\\t\\t\\tTotal actor sessions: [{self.total_actors}]\")\n",
        "\n",
        "    def print_actor_sessions(self) -> None:\n",
        "        for i, day in enumerate(self.days):\n",
        "            actors = set()\n",
        "            for shot in day[1]:\n",
        "                actors = actors.union(self.movie[shot])\n",
        "            print(f\"Day {i+1} actors: {actors}\")"
      ],
      "metadata": {
        "id": "hONy6nX9efMl"
      },
      "execution_count": 24,
      "outputs": []
    },
    {
      "cell_type": "markdown",
      "source": [
        "### Pruebas.\n",
        "\n",
        "Es posible ejecutar el sistema utilizando semillas aleatorias fijas, para reproducir los mismos resultados. Resultan interesantes las siguiente semillas:\n",
        "\n",
        "- Semilla 25: Resultado 32.\n",
        "- Semilla 12: Resultado 30.\n",
        "- Semilla 42: Resultado 29.\n",
        "- Semilla 19: Resultado 28.\n",
        "- Semilla 29: Resultado 27.\n",
        "\n",
        "\n"
      ],
      "metadata": {
        "id": "nnYSqLR4eoL0"
      }
    },
    {
      "cell_type": "code",
      "source": [
        "manager = GreedyManager(\n",
        "    movie=MOVIE,\n",
        "    shots_per_day=6,\n",
        "    random_seed=29\n",
        ")\n",
        "manager.optimize()\n",
        "manager.print_result()"
      ],
      "metadata": {
        "colab": {
          "base_uri": "https://localhost:8080/"
        },
        "id": "2FYU8n25fVIW",
        "outputId": "9ea4dce0-b5af-4ccb-fd15-e3461654139f"
      },
      "execution_count": 31,
      "outputs": [
        {
          "output_type": "stream",
          "name": "stdout",
          "text": [
            "Day 1 shots: {14, 17, 18, 19, 23, 24}\t|\tNecessary actors: 3\n",
            "Day 2 shots: {7, 9, 13, 27, 28, 30}\t|\tNecessary actors: 4\n",
            "Day 3 shots: {1, 6, 16, 20, 22, 25}\t|\tNecessary actors: 6\n",
            "Day 4 shots: {3, 4, 8, 15, 21, 29}\t|\tNecessary actors: 6\n",
            "Day 5 shots: {2, 5, 10, 11, 12, 26}\t|\tNecessary actors: 8\n",
            "\n",
            "\t\t\tTotal actor sessions: [27]\n"
          ]
        }
      ]
    },
    {
      "cell_type": "code",
      "source": [
        "manager.print_actor_sessions()"
      ],
      "metadata": {
        "colab": {
          "base_uri": "https://localhost:8080/"
        },
        "id": "fdTYN9C5fgfr",
        "outputId": "71c850cb-2a0c-4352-8053-b08b0f5fd7a9"
      },
      "execution_count": 28,
      "outputs": [
        {
          "output_type": "stream",
          "name": "stdout",
          "text": [
            "Day 1 actors: {1, 3, 6}\n",
            "Day 2 actors: {1, 2, 4, 5}\n",
            "Day 3 actors: {1, 2, 3, 4, 5, 10}\n",
            "Day 4 actors: {1, 2, 5, 6, 7, 8}\n",
            "Day 5 actors: {1, 2, 3, 4, 5, 6, 8, 9}\n"
          ]
        }
      ]
    },
    {
      "cell_type": "markdown",
      "source": [
        "## Conclusiones\n",
        "\n",
        "A partir de este proyecto se pueden extraer las siguientes conclusiones:\n",
        "\n",
        "1. Aun en el contexto de un problema con una espacio de soluciones abrumador, una buena selección de técnicas algorítmicas puede dar lugar a soluciones eficaces con márgenes de gasto computacional aceptables.\n",
        "\n",
        "2. Al enfrentar cualquier problema, resulta enriquecedor abordarlo desde diferentes puntos de vista. Originalmente se trató de atacar este problema solo con un algoritmo genético, definiendo los genes como los actores necesarios para cumplir las tomas, sin embargo esto resultó ser completamente inmanejable. Solo cuando se abordó el problema desde la perspectiva de la combinatoria de tomas como base de la solución, se logró vislumbrar un camino prometedor para solucionar el problema.\n",
        "\n",
        "3. Ninguna técnica es infalible o ideal para cualquier escenario; sin embargo, la capacidad que tenemos de combinar diferentes enfoques para atacar cada aspecto de un problema, es la herramienta más valiosa de la que podemos disponer para enfrentarnos a problemas desafiantes.\n",
        "\n",
        "4. Al implementar algoritmos evolutivos o genéticos, es fundamental definir cuál es el factor de adaptación que más beneficia a la mejora de los individuos. En un determinado punto se trató de realizar el optimizador en base a un algoritmo genético, pero la técnica de cruce no proporcionaba suficiente diversidad y se requería una población muy grande para lograr mejoras en los individuos, lo que hacía al sistema extremadamente lento. Fue entonces cuando se determinó que los individuos mejoran muy poco al heredar características de sus padres, ya que estas estaban acotadas por sus genomas previos. Por el contrario, al darse un mutación favorable, el nivel rendimiento crecía considerablemente. Esto llevó a centrar el optimizador en un algoritmo evolutivo mucho más sencillo que se centrará en explotar los beneficios de la mutación para diversificar las soluciones.\n"
      ],
      "metadata": {
        "id": "k_FpcNgzfjqj"
      }
    }
  ]
}